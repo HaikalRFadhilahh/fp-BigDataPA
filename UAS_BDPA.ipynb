{
 "cells": [
  {
   "attachments": {},
   "cell_type": "markdown",
   "metadata": {},
   "source": [
    "<h1>FINAL PROJECT UJIAN AKHIR SEMESTER GENAP</h1>\n",
    "\n",
    "<h2>Big Data And Predictive Analytics</h2>\n",
    "\n",
    "<h5>Anggota Kelompok :</h5>\n",
    "<ol>\n",
    "    <li><p>Haikal Raditya Fadhilah</p></li>\n",
    "    <li><p>Wulan Kristiyanti</p></li>\n",
    "    <li><p>Gilang Ramadhani</p></li>\n",
    "</ol>\n"
   ]
  },
  {
   "attachments": {},
   "cell_type": "markdown",
   "metadata": {},
   "source": [
    "<h2>IMPORT LIBRARY</h2>"
   ]
  },
  {
   "cell_type": "code",
   "execution_count": 2,
   "metadata": {},
   "outputs": [],
   "source": [
    "import pandas as pd\n",
    "from matplotlib import pyplot as plt\n",
    "import scipy as stats"
   ]
  },
  {
   "attachments": {},
   "cell_type": "markdown",
   "metadata": {},
   "source": [
    "<h2>IMPORT DATASET</h2>\n"
   ]
  }
 ],
 "metadata": {
  "kernelspec": {
   "display_name": "BigData",
   "language": "python",
   "name": "python3"
  },
  "language_info": {
   "codemirror_mode": {
    "name": "ipython",
    "version": 3
   },
   "file_extension": ".py",
   "mimetype": "text/x-python",
   "name": "python",
   "nbconvert_exporter": "python",
   "pygments_lexer": "ipython3",
   "version": "3.10.10"
  },
  "orig_nbformat": 4
 },
 "nbformat": 4,
 "nbformat_minor": 2
}
